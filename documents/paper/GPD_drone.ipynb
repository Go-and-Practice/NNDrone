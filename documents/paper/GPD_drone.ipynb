{
 "cells": [
  {
   "cell_type": "code",
   "execution_count": 1,
   "metadata": {
    "collapsed": false
   },
   "outputs": [
    {
     "name": "stderr",
     "output_type": "stream",
     "text": [
      "Using TensorFlow backend.\n"
     ]
    },
    {
     "name": "stdout",
     "output_type": "stream",
     "text": [
      "Loading signal data file...\n",
      "Loading background data file...\n"
     ]
    }
   ],
   "source": [
    "from ROOT import TH1F, TCanvas, gStyle, TLegend, TGraph\n",
    "from sklearn.externals import joblib\n",
    "from array import array\n",
    "import pickle\n",
    "from scipy.stats import ks_2samp\n",
    "import numpy as np\n",
    "import datetime\n",
    "import math\n",
    "import pandas as pd\n",
    "import matplotlib.pyplot as plt\n",
    "from keras.models import Sequential\n",
    "from keras.layers import Dense, Dropout, Activation\n",
    "from keras.layers import LocallyConnected1D\n",
    "from keras.layers import Conv1D, GlobalMaxPooling1D\n",
    "from sklearn.preprocessing import StandardScaler\n",
    "from sklearn.externals import joblib\n",
    "from keras.models import load_model\n",
    "from nndrone_paper.converters import BasicConverter\n",
    "from nndrone_paper.models import BaseModel\n",
    "import os.path\n",
    "\n",
    "# load data\n",
    "print ('Loading signal data file...')\n",
    "sig_data = pd.read_hdf('/Users/sbenson/Documents/STBC-Drive/sbenson/Jets/sig_centred_imagedl.h5').head(20000)\n",
    "print ('Loading background data file...')\n",
    "bkg_data = pd.read_hdf('/Users/sbenson/Documents/STBC-Drive/sbenson/Jets/bkg_centred_imagedl.h5').head(20000)\n",
    "#\n",
    "\n",
    "def addRMSDev(df):\n",
    "    df['phi_spread_charged'] = df.apply(lambda x: np.std(x['charged_phi']), axis = 1)\n",
    "    df['eta_spread_charged'] = df.apply(lambda x: np.std(x['charged_eta']), axis = 1)\n",
    "    df['phi_spread_neutral'] = df.apply(lambda x: np.std(x['neutral_phi']), axis = 1)\n",
    "    df['eta_spread_neutral'] = df.apply(lambda x: np.std(x['neutral_eta']), axis = 1)\n",
    "    return df\n",
    "\n",
    "sig_data_p = addRMSDev(sig_data)\n",
    "bkg_data_p = addRMSDev(bkg_data)\n",
    "\n",
    "vars_for_training = ['kt2', 'mom', 'eta', 'phi', 'mass', 'hEnergy', 'nEnergy'\n",
    "                    ,'hSumPT', 'nSumPT', 'hAvEta', 'nAvEta', 'hAvPhi', 'nAvPhi'\n",
    "                    , 'phi_spread_charged', 'phi_spread_neutral', 'eta_spread_charged', 'eta_spread_neutral']\n",
    "\n",
    "# Load classifier and scaler\n",
    "scaler = joblib.load('scaler_GPDexample.pkl')\n",
    "classifier = load_model('classifier_GPDexample.h5')\n",
    "\n",
    "df_sig_train = sig_data_p.head(10000).loc[:,vars_for_training]\n",
    "df_bkg_train = bkg_data_p.head(10000).loc[:,vars_for_training]\n",
    "df_sig_test = sig_data_p.tail(10000).loc[:,vars_for_training]\n",
    "df_bkg_test = bkg_data_p.tail(10000).loc[:,vars_for_training]\n",
    "\n",
    "# Create the scaler to preprocess the data\n",
    "df_sig_train.reindex(np.random.permutation(df_sig_train.index))\n",
    "df_bkg_train.reindex(np.random.permutation(df_bkg_train.index))\n",
    "\n",
    "sc_sig_train = scaler.transform(df_sig_train)\n",
    "sc_bkg_train = scaler.transform(df_bkg_train)\n",
    "sc_sig_test = scaler.transform(df_sig_test)\n",
    "sc_bkg_test = scaler.transform(df_bkg_test)\n",
    "\n",
    "train = np.append(sc_sig_train, sc_bkg_train, axis=0)\n",
    "target = [1] * len(sc_sig_train) + [0] * len(sc_bkg_train)\n",
    "test = np.append(sc_sig_test, sc_bkg_test, axis=0)\n",
    "target_test = [1] * len(sc_sig_test) + [0] * len(sc_bkg_test)\n",
    "train = np.expand_dims(train, axis=2)\n",
    "test = np.expand_dims(test, axis=2)"
   ]
  },
  {
   "cell_type": "code",
   "execution_count": 3,
   "metadata": {
    "collapsed": false
   },
   "outputs": [
    {
     "name": "stdout",
     "output_type": "stream",
     "text": [
      "Model found, loading\n"
     ]
    }
   ],
   "source": [
    "# initialize a list to store the loss value for each epoch\n",
    "lossHistory = []\n",
    "\n",
    "# Approx. control\n",
    "alpha = 0.05\n",
    "batchSize = 1\n",
    "num_epochs = 300\n",
    "threshold = 0.02\n",
    "#\n",
    "layerSizes = [5, 1]\n",
    "\n",
    "converter = BasicConverter(num_epochs=num_epochs, batch_size=batchSize, learning_rate=alpha, threshold=threshold)\n",
    "\n",
    "# convert features and outputs to np array\n",
    "train = np.array(train)\n",
    "\n",
    "# shuffle signal and background\n",
    "s = np.arange(train.shape[0])\n",
    "np.random.shuffle(s)\n",
    "train = train[s]\n",
    "\n",
    "# Initialise model\n",
    "model = BaseModel(len(train[0]), 1)\n",
    "modelloc = 'approx_GPD_temp.pkl'\n",
    "histloc = 'approx_GPD_temp_history.pkl'\n",
    "\n",
    "if os.path.exists(modelloc):\n",
    "    print (\"Model found, loading\")\n",
    "    model.load_model(modelloc)\n",
    "    [losses, diffs, updates] = joblib.load(histloc)\n",
    "else:\n",
    "    if len(layerSizes) == 1:\n",
    "        model.add_layer(1)\n",
    "    else:\n",
    "        for l in layerSizes:\n",
    "            model.add_layer(l)\n",
    "\n",
    "    model.print_layers()\n",
    "\n",
    "    print(\"Starting stochastic conversion...\")\n",
    "    converter.convert_model(model, classifier, train)\n",
    "    losses = converter.losses()\n",
    "    diffs = converter.diffs()\n",
    "    updates = converter.updates()\n",
    "\n",
    "    model.save_model(modelloc)\n",
    "\n",
    "    f_train = open(histloc, 'wb')\n",
    "    training_data = [losses, diffs, updates]\n",
    "    pickle.dump(training_data, f_train)\n",
    "    f_train.close()"
   ]
  },
  {
   "cell_type": "code",
   "execution_count": 25,
   "metadata": {
    "collapsed": false
   },
   "outputs": [],
   "source": [
    "# Add original decisions and drone decisions to dataframes\n",
    "from copy import deepcopy\n",
    "import time\n",
    "def addProbs(df, cl, drone):\n",
    "    df_ret = deepcopy(df)\n",
    "    df_ret['prob_orig']= df.apply(lambda x: float(cl.predict_proba(np.expand_dims(x.reshape(1, -1), axis=2))[0]), axis=1)\n",
    "    df_ret['prob_drone']= df.apply(lambda x: float(drone.evaluate_total(x, debug=False)), axis=1)\n",
    "    return df_ret\n",
    "def addProbs_l(l, cl, drone):\n",
    "    print (\"Adding %s probs\" % len(l))\n",
    "    p_orig = []\n",
    "    p_drone = []\n",
    "    start = time.clock()\n",
    "    for x in l:\n",
    "        p_orig.append(cl.predict_proba(np.expand_dims(x.reshape(1, -1), axis=2))[0].tolist()[0])\n",
    "    diff = time.clock()-start\n",
    "    print (\"Original: Took %s seconds to evaluate %s calls: %.8f s/call\" %(diff, len(l), diff/float(len(l))))\n",
    "    start = time.clock()\n",
    "    for x in l:\n",
    "        p_drone.append(drone.evaluate_total(x, debug=False)[0][0].tolist()[0][0])\n",
    "    diff = time.clock()-start\n",
    "    print (\"Drone: Took %s seconds to evaluate %s calls: %.8f s/call\" %(diff, len(l), diff/float(len(l))))\n",
    "    return p_orig, p_drone"
   ]
  },
  {
   "cell_type": "code",
   "execution_count": 5,
   "metadata": {
    "collapsed": true
   },
   "outputs": [],
   "source": [
    "def scanPoint(cutVal, sig, bkg, pname):\n",
    "    totSig = len(sig)\n",
    "    totBKG = len(bkg)\n",
    "    sig_pass = len(sig.loc[sig[pname] > cutVal])\n",
    "    bkg_rej = len(bkg.loc[bkg[pname] < cutVal])\n",
    "    bkg_pass = len(bkg.loc[bkg[pname] > cutVal])\n",
    "    eff_sig = float(sig_pass)/float(totSig)\n",
    "    rej_bkg = float(bkg_rej)/float(totBKG)\n",
    "    return eff_sig, rej_bkg, sig_pass, bkg_pass\n",
    "def scanPoint_l(cutVal, sig, bkg):\n",
    "    totSig = len(sig)\n",
    "    totBKG = len(bkg)\n",
    "    sig_pass = len([s for s in sig if s > cutVal])\n",
    "    bkg_rej = len([b for b in bkg if b < cutVal])\n",
    "    bkg_pass = len([b for b in bkg if b > cutVal])\n",
    "    eff_sig = float(sig_pass)/float(totSig)\n",
    "    rej_bkg = float(bkg_rej)/float(totBKG)\n",
    "    return eff_sig, rej_bkg, sig_pass, bkg_pass\n",
    "def prepPlot(_ax, xtitle, ytitle):\n",
    "    _ax.grid(False)\n",
    "    _ax.set_xlabel(xtitle)\n",
    "    _ax.set_ylabel(ytitle)\n",
    "    _ax.set_title(\"\")"
   ]
  },
  {
   "cell_type": "code",
   "execution_count": 27,
   "metadata": {
    "collapsed": false
   },
   "outputs": [
    {
     "name": "stdout",
     "output_type": "stream",
     "text": [
      "Adding 10000 probs\n",
      "Original: Took 4.789156999999932 seconds to evaluate 10000 calls: 0.00047892 s/call\n",
      "Drone: Took 0.6214680000000499 seconds to evaluate 10000 calls: 0.00006215 s/call\n",
      "Adding 10000 probs\n",
      "Original: Took 4.744509999999991 seconds to evaluate 10000 calls: 0.00047445 s/call\n",
      "Drone: Took 0.6281249999999545 seconds to evaluate 10000 calls: 0.00006281 s/call\n",
      "[0.71089106798172, 0.8037771582603455, 0.7273904085159302, 0.3853767514228821, 0.4052496552467346]\n",
      "[0.2825843393802643, 0.3246588110923767, 0.3885851204395294, 0.5627346038818359, 0.14637237787246704]\n",
      "[0.7368840857019666, 0.8133472266044269, 0.743243268413667, 0.415799135163671, 0.4010204043943797]\n",
      "[0.27260440260581925, 0.3311587135317048, 0.35924121303191414, 0.5499488779713627, 0.16106993238366477]\n"
     ]
    },
    {
     "data": {
      "image/png": "[encoded data removed]",
      "text/plain": [
       "<matplotlib.figure.Figure at 0x1ce549978>"
      ]
     },
     "metadata": {},
     "output_type": "display_data"
    }
   ],
   "source": [
    "# Make outputs\n",
    "#print(df_sig_test)\n",
    "sig_tst_o, sig_tst_d = addProbs_l(sc_sig_test, classifier, model)\n",
    "bkg_tst_o, bkg_tst_d = addProbs_l(sc_bkg_test, classifier, model)\n",
    "\n",
    "bins_pr = np.linspace(0, 1, 50)\n",
    "fig, ax1 = plt.subplots()\n",
    "\n",
    "h_sig_drone = plt.hist(np.array(sig_tst_d), fill=False, edgecolor = 'red', bins = bins_pr, alpha=0.5, label=\"sig. drone\", histtype='step')\n",
    "h_sig_test = plt.hist(np.array(sig_tst_o), fill=False, edgecolor = 'blue', bins = bins_pr, alpha=0.5, label=\"sig. test\", histtype='step')\n",
    "h_bkg_drone = plt.hist(np.array(bkg_tst_d), edgecolor = 'green', fill=False, bins = bins_pr, alpha=0.5, label=\"bkg drone\", histtype='step')\n",
    "h_bkg_test = plt.hist(np.array(bkg_tst_o), fill=False, edgecolor = 'purple', bins = bins_pr, alpha=0.5, label=\"bkg test\", histtype='step')\n",
    "prepPlot(ax1, \"Classifier prob.\", \"Candidates\")\n",
    "plt.legend()\n",
    "plt.savefig('output_comp_drone_gpd.png')\n",
    "plt.show()"
   ]
  },
  {
   "cell_type": "code",
   "execution_count": 37,
   "metadata": {
    "collapsed": false
   },
   "outputs": [
    {
     "data": {
      "text/plain": [
       "<matplotlib.figure.Figure at 0x1cf173da0>"
      ]
     },
     "metadata": {},
     "output_type": "display_data"
    },
    {
     "data": {
      "image/png": "[encoded data removed]",
      "text/plain": [
       "<matplotlib.figure.Figure at 0x1cf4dfcc0>"
      ]
     },
     "metadata": {},
     "output_type": "display_data"
    }
   ],
   "source": [
    "# Plot ROC comparison & FoM optimisation\n",
    "eff_sig_drone = []\n",
    "eff_sig_test = []\n",
    "rej_bkg_drone = []\n",
    "rej_bkg_test = []\n",
    "#\n",
    "scanpoints = np.linspace(0.15, 0.001, 1000)\n",
    "scanpoints += np.linspace(0.001, 1.0, 1000)\n",
    "for s in scanpoints:\n",
    "    es, rb, nSig, nBKG = scanPoint_l(s, sig_tst_o, bkg_tst_o)\n",
    "    es_dr, rb_dr, nSig_dr, nBKG_dr = scanPoint_l(s, sig_tst_o, bkg_tst_o)\n",
    "    eff_sig_test.append(es)\n",
    "    rej_bkg_test.append(1/rb)\n",
    "    eff_sig_drone.append(es_dr)\n",
    "    rej_bkg_drone.append(1/rb_dr)\n",
    "\n",
    "fig, axes = plt.subplots()\n",
    "plt1 = axes.plot(eff_sig_test, rej_bkg_test, 'r-', label = 'original')\n",
    "plt2 = axes.plot(eff_sig_drone, rej_bkg_drone, 'b-', label= 'drone')\n",
    "plt.legend()\n",
    "prepPlot(axes, \"Signal eff.\", \"1 / Background rej.\")\n",
    "plt.savefig('roc_gpd.pdf')\n",
    "plt.show()"
   ]
  },
  {
   "cell_type": "code",
   "execution_count": 36,
   "metadata": {
    "collapsed": false
   },
   "outputs": [
    {
     "name": "stdout",
     "output_type": "stream",
     "text": [
      "Number of model additions: 10\n"
     ]
    },
    {
     "data": {
      "text/plain": [
       "<matplotlib.figure.Figure at 0x1ce968fd0>"
      ]
     },
     "metadata": {},
     "output_type": "display_data"
    },
    {
     "data": {
      "image/png": "[encoded data removed]",
      "text/plain": [
       "<matplotlib.figure.Figure at 0x1cf10c8d0>"
      ]
     },
     "metadata": {},
     "output_type": "display_data"
    }
   ],
   "source": [
    "# Plot difference history\n",
    "training = [losses, diffs, updates]\n",
    "count = [n for n in range(len(training[0]))]\n",
    "fig = plt.figure()\n",
    "plt.plot(count, training[1], '-')\n",
    "# Add markers where an update occurs\n",
    "markers_x = [c for c, a in zip(count, training[2]) if a == 1]\n",
    "markers_y = [d for d, a in zip(training[1], training[2]) if a == 1]\n",
    "print('Number of model additions: %s' % len(markers_x))\n",
    "plt.plot(markers_x, markers_y, 'g^')\n",
    "fig.suptitle(\"\")\n",
    "plt.xlabel(\"Epoch\")\n",
    "plt.ylabel(\"Iteration difference\")\n",
    "plt.yscale('log')\n",
    "plt.savefig(\"diff_history_gpd.pdf\")\n",
    "plt.show()\n",
    "plt.clf()"
   ]
  },
  {
   "cell_type": "code",
   "execution_count": 38,
   "metadata": {
    "collapsed": false
   },
   "outputs": [
    {
     "name": "stdout",
     "output_type": "stream",
     "text": [
      "_________________________________________________________________\n",
      "Layer (type)                 Output Shape              Param #   \n",
      "=================================================================\n",
      "locally_connected1d_1 (Local (None, 16, 90)            4320      \n",
      "_________________________________________________________________\n",
      "global_max_pooling1d_1 (Glob (None, 90)                0         \n",
      "_________________________________________________________________\n",
      "dense_1 (Dense)              (None, 30)                2730      \n",
      "_________________________________________________________________\n",
      "dense_2 (Dense)              (None, 1)                 31        \n",
      "=================================================================\n",
      "Total params: 7,081\n",
      "Trainable params: 7,081\n",
      "Non-trainable params: 0\n",
      "_________________________________________________________________\n"
     ]
    }
   ],
   "source": [
    "classifier.summary()"
   ]
  },
  {
   "cell_type": "code",
   "execution_count": null,
   "metadata": {
    "collapsed": true
   },
   "outputs": [],
   "source": []
  }
 ],
 "metadata": {
  "kernelspec": {
   "display_name": "Python 3",
   "language": "python",
   "name": "python3"
  },
  "language_info": {
   "codemirror_mode": {
    "name": "ipython",
    "version": 3
   },
   "file_extension": ".py",
   "mimetype": "text/x-python",
   "name": "python",
   "nbconvert_exporter": "python",
   "pygments_lexer": "ipython3",
   "version": "3.4.5"
  }
 },
 "nbformat": 4,
 "nbformat_minor": 2
}
