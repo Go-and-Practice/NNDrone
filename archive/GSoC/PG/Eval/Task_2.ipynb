{
 "cells": [
  {
   "cell_type": "code",
   "execution_count": null,
   "metadata": {
    "_cell_guid": "b4d7a10d-0da1-4c55-ac5e-542f6343fab7",
    "_uuid": "7b88e6677d08afd5767bee94c045870ca7e430b3",
    "collapsed": true,
    "deletable": true,
    "editable": true
   },
   "outputs": [],
   "source": [
    "from sklearn.neural_network import MLPClassifier\n",
    "from sklearn.externals import joblib\n",
    "from sklearn.preprocessing import StandardScaler\n",
    "import numpy as np\n",
    "import subprocess"
   ]
  },
  {
   "cell_type": "markdown",
   "metadata": {},
   "source": [
    "Alter the file directories appropriately."
   ]
  },
  {
   "cell_type": "code",
   "execution_count": null,
   "metadata": {
    "_cell_guid": "93cbd76c-e0f0-41c1-8691-fe3f09303528",
    "_uuid": "fb605489a00d6ac4abd232124058c83da3e686dd",
    "collapsed": true,
    "deletable": true,
    "editable": true
   },
   "outputs": [],
   "source": [
    "sigdatapath='../input/signal_data.p'\n",
    "backdatapath='../input/background_data.p'"
   ]
  },
  {
   "cell_type": "code",
   "execution_count": null,
   "metadata": {
    "_cell_guid": "ff683eee-e723-4e4c-93e6-c4664b7183c6",
    "_uuid": "d2080c60ed75383292c3a8fb73b08b274bb91cca",
    "collapsed": true,
    "deletable": true,
    "editable": true
   },
   "outputs": [],
   "source": [
    "sigdata=np.asarray(joblib.load('../input/signal_data.p'))\n",
    "backdata=np.asarray(joblib.load('../input/background_data.p'))\n",
    "\n",
    "#Using features 2 and 3\n",
    "\n",
    "sig_len=len(sigdata)\n",
    "back_len=len(backdata)\n",
    "\n",
    "#print len(sigdata),len(backdata)\n",
    "\n",
    "sigdata=[[e[1],e[2]] for e in sigdata]\n",
    "backdata=[[e[1],e[2]] for e in backdata]\n",
    "\n",
    "#print len(sigdata),len(backdata)\n",
    "\n",
    "train_ratio=0.6\n",
    "sigtrain=sigdata[:int(train_ratio*sig_len)]\n",
    "backtrain=backdata[:int(train_ratio*back_len)]\n",
    "sigtest=sigdata[int(train_ratio*sig_len):]\n",
    "backtest=backdata[int(train_ratio*back_len):]\n",
    "\n",
    "#print len(sigtrain),len(backtrain),len(sigtest),len(backtest)\n",
    "\n",
    "scaler = StandardScaler(copy=True, with_mean=True, with_std=True).fit(sigtrain)\n",
    "sigtrain = scaler.transform(sigtrain)\n",
    "sigtest = scaler.transform(sigtest)\n",
    "backtrain = scaler.transform(backtrain)\n",
    "backtest = scaler.transform(backtest)\n",
    "\n",
    "#print len(sigtrain),len(backtrain),len(sigtest),len(backtest)\n",
    "\n",
    "#print sigtrain\n",
    "\n",
    "train_data=np.concatenate((sigtrain,backtrain))\n",
    "test_data=np.concatenate((sigtest,backtest))\n",
    "\n",
    "#print len(train_data),len(test_data)\n",
    "\n",
    "train_label=np.zeros(len(train_data))\n",
    "train_label[:len(sigtrain)]=1\n",
    "test_label=np.zeros(len(test_data))\n",
    "test_label[:len(sigtest)]=1"
   ]
  },
  {
   "cell_type": "code",
   "execution_count": null,
   "metadata": {
    "_cell_guid": "069fd8a4-a92e-4529-a155-abead670f841",
    "_uuid": "395eacafdd5f53f8b66baaad6f58f130cbd30d8f",
    "collapsed": true,
    "deletable": true,
    "editable": true
   },
   "outputs": [],
   "source": [
    "classifier=MLPClassifier(activation='relu', alpha=1e-05, batch_size='auto',\n",
    "                           beta_1=0.9, beta_2=0.999, early_stopping=False,\n",
    "                           epsilon=1e-08, hidden_layer_sizes=(1024,256), learning_rate='constant',\n",
    "                           learning_rate_init=0.0001, max_iter=100, momentum=0.9,\n",
    "                           nesterovs_momentum=True, power_t=0.5, random_state=1, shuffle=True,\n",
    "                           solver='adam', tol=0.0001, validation_fraction=0.1, verbose=True,\n",
    "                           warm_start=False)"
   ]
  },
  {
   "cell_type": "code",
   "execution_count": null,
   "metadata": {
    "_cell_guid": "36e3616f-6a1e-40d4-ad34-d59c79856630",
    "_uuid": "ea7d243291c123b00d97a5a6febd741530285b27",
    "collapsed": true,
    "deletable": true,
    "editable": true,
    "scrolled": false
   },
   "outputs": [],
   "source": [
    "classifier.fit(train_data,train_label)"
   ]
  },
  {
   "cell_type": "code",
   "execution_count": null,
   "metadata": {
    "_cell_guid": "8ed8a1ef-3cbd-4e0b-82c6-6038162c12ec",
    "_uuid": "a14d763bd3ab782cd75af42b49adc5d211879cba",
    "collapsed": true,
    "deletable": true,
    "editable": true
   },
   "outputs": [],
   "source": [
    "train_pred=classifier.predict(train_data)\n",
    "train_acc=1-abs(sum(train_pred-train_label))/len(train_label)\n",
    "test_pred=classifier.predict(test_data)\n",
    "test_acc=1-abs(sum(test_pred-test_label))/len(test_label)\n",
    "print(\"Train Accuracy:\",train_acc)\n",
    "print(\"Test Accuracy:\",test_acc)"
   ]
  },
  {
   "cell_type": "code",
   "execution_count": null,
   "metadata": {
    "_cell_guid": "1efdf07b-9aab-4de9-a297-672cfe89ab6f",
    "_uuid": "818ed115eb8a03895b55cd5281f9b4503c6cd729",
    "collapsed": true,
    "deletable": true,
    "editable": true
   },
   "outputs": [],
   "source": [
    "#Evaluating figure of merit from training samples.\n",
    "\n",
    "#Assuming alpha=1\n",
    "alpha=1\n",
    "\n",
    "s_tr=len([i for i in range(len(train_pred)) if (train_label[i]==1 and train_pred[i]==1)])\n",
    "b_tr=len([i for i in range(len(train_pred)) if (train_label[i]==0 and train_pred[i]==0)])\n",
    "train_fom=alpha*s_tr/(s_tr+b_tr)**0.5\n",
    "\n",
    "s_te=len([i for i in range(len(test_pred)) if (test_label[i]==1 and test_pred[i]==1)])\n",
    "b_te=len([i for i in range(len(test_pred)) if (test_label[i]==0 and test_pred[i]==0)])\n",
    "test_fom=alpha*s_te/(s_te+b_te)**0.5\n",
    "\n",
    "print(\"Train FOM:\",train_fom)\n",
    "print(\"Test FOM:\",test_fom)"
   ]
  },
  {
   "cell_type": "code",
   "execution_count": null,
   "metadata": {
    "_uuid": "535c56a112cc81b1748f76188c26a8b4b628c3ea",
    "collapsed": true,
    "deletable": true,
    "editable": true
   },
   "outputs": [],
   "source": [
    "_=joblib.dump(classifier,'classifier_Gopalakrishnan')"
   ]
  },
  {
   "cell_type": "code",
   "execution_count": null,
   "metadata": {
    "_uuid": "44aa3aebcaddffebc0398bccc6aff5fba6842557",
    "collapsed": true,
    "deletable": true,
    "editable": true
   },
   "outputs": [],
   "source": [
    "print(subprocess.check_output([\"ls\", \"../working\"]).decode(\"utf8\"))"
   ]
  }
 ],
 "metadata": {
  "kernelspec": {
   "display_name": "Python 3",
   "language": "python",
   "name": "python3"
  },
  "language_info": {
   "codemirror_mode": {
    "name": "ipython",
    "version": 3
   },
   "file_extension": ".py",
   "mimetype": "text/x-python",
   "name": "python",
   "nbconvert_exporter": "python",
   "pygments_lexer": "ipython3",
   "version": "3.6.4"
  }
 },
 "nbformat": 4,
 "nbformat_minor": 1
}
